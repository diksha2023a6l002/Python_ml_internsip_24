{
 "cells": [
  {
   "cell_type": "code",
   "execution_count": 2,
   "id": "81cd75c3-fa35-424d-b61c-5e9a39979837",
   "metadata": {},
   "outputs": [
    {
     "name": "stdin",
     "output_type": "stream",
     "text": [
      "Enter number of rows: 7\n"
     ]
    },
    {
     "name": "stdout",
     "output_type": "stream",
     "text": [
      "       *\n",
      "      **\n",
      "     ***\n",
      "    ****\n",
      "   *****\n",
      "  ******\n",
      " *******\n"
     ]
    }
   ],
   "source": [
    " \n",
    "\n",
    "\n",
    "\n",
    "\n",
    "\n",
    "def star_pattern3(n):\n",
    "   \n",
    "    spaces = n\n",
    "    for i in range(1, n + 1):\n",
    "        for j in range(1, spaces + 1):\n",
    "           \n",
    "            print(\" \", end=\"\")\n",
    "       \n",
    "\n",
    "        for k in range(1, i + 1):\n",
    "           \n",
    "            print(\"*\", end=\"\")\n",
    "\n",
    "     \n",
    "        print()\n",
    "       \n",
    "        spaces = spaces - 1\n",
    "\n",
    "\n",
    "n = int(input(\"Enter number of rows:\"))\n",
    "star_pattern3(n)\n",
    "\n"
   ]
  },
  {
   "cell_type": "code",
   "execution_count": 5,
   "id": "530f5cce-85ec-4e93-a85b-a45018d67018",
   "metadata": {},
   "outputs": [
    {
     "name": "stdin",
     "output_type": "stream",
     "text": [
      "Enter the first number:  e\n"
     ]
    },
    {
     "name": "stdout",
     "output_type": "stream",
     "text": [
      "Invalid input! Please enter valid numeric values.\n"
     ]
    }
   ],
   "source": [
    "try:\n",
    "    number1 = int(input(\"Enter the first number: \"))\n",
    "    number2 = int(input(\"Enter the second number: \"))\n",
    "    result = number1 / number2\n",
    "    print(\"Result of division:\", result)\n",
    "except ValueError:\n",
    "    print(\"Invalid input! Please enter valid numeric values.\")\n",
    "except ZeroDivisionError:\n",
    "    print(\"error, cant devide by zero, please enter input again\")\n",
    "\n"
   ]
  },
  {
   "cell_type": "code",
   "execution_count": null,
   "id": "ceb47eaa-d1e9-4500-93d4-9fee04881836",
   "metadata": {},
   "outputs": [],
   "source": []
  }
 ],
 "metadata": {
  "kernelspec": {
   "display_name": "Python 3 (ipykernel)",
   "language": "python",
   "name": "python3"
  },
  "language_info": {
   "codemirror_mode": {
    "name": "ipython",
    "version": 3
   },
   "file_extension": ".py",
   "mimetype": "text/x-python",
   "name": "python",
   "nbconvert_exporter": "python",
   "pygments_lexer": "ipython3",
   "version": "3.12.1"
  }
 },
 "nbformat": 4,
 "nbformat_minor": 5
}
